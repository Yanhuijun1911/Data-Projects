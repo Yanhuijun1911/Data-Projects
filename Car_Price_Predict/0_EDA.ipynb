{
  "cells": [
    {
      "cell_type": "code",
      "execution_count": null,
      "outputs": [],
      "source": [
        "import pandas as pd\n",
        "import glob\n",
        "import os\n",
        "\n",
        "import numpy as np\n",
        "import matplotlib.pyplot as plt\n",
        "import seaborn as sns\n",
        "\n",
        "from sklearn.linear_model import LinearRegression\n",
        "from sklearn import metrics\n",
        "from sklearn.model_selection import train_test_split # module to split our data into train and test sets\n",
        "from sklearn.preprocessing import StandardScaler\n",
        "\n",
        "import statsmodels.api as sm\n",
        "import statsmodels.tools"
      ],
      "metadata": {
        "pycharm": {
          "name": "#%%\n"
        },
        "id": "pdZBkX_foEW5"
      }
    },
    {
      "cell_type": "code",
      "execution_count": null,
      "outputs": [],
      "source": [
        "#find the path of all the files of the datasets\n",
        "file_directory = r'/Users/yanhuijun/DigitalFutures/Poject2-Car'"
      ],
      "metadata": {
        "pycharm": {
          "name": "#%%\n"
        },
        "id": "5qU28echoEXA"
      }
    },
    {
      "cell_type": "code",
      "execution_count": null,
      "outputs": [],
      "source": [
        "file_path = os.path.join(file_directory , \"*.txt\")"
      ],
      "metadata": {
        "pycharm": {
          "name": "#%%\n"
        },
        "id": "0dzUMA2MoEXB"
      }
    },
    {
      "cell_type": "code",
      "execution_count": null,
      "outputs": [],
      "source": [
        "all_files = glob.glob(file_path)"
      ],
      "metadata": {
        "pycharm": {
          "name": "#%%\n"
        },
        "id": "qMt2b_uLoEXB"
      }
    },
    {
      "cell_type": "code",
      "execution_count": null,
      "outputs": [],
      "source": [
        "# build a dataframe and loop the files in the dataframe\n",
        "dataframes = []\n",
        "\n",
        "for filename in all_files:\n",
        "    df = pd.read_csv(filename)\n",
        "    df['filename'] = filename\n",
        "    dataframes.append(df)\n",
        "\n",
        "#concat the dataframe\n",
        "cars = pd.concat(dataframes, axis=0, ignore_index=True)"
      ],
      "metadata": {
        "pycharm": {
          "name": "#%%\n"
        },
        "id": "RJN7ZWtFoEXC"
      }
    },
    {
      "cell_type": "code",
      "execution_count": null,
      "outputs": [],
      "source": [
        "# rename the complicated column name\n",
        "cars['car model'] = cars['filename'].str.replace('/Users/yanhuijun/DigitalFutures/Poject2-Car/', '', regex=False).str.replace('.txt', '',regex=False)"
      ],
      "metadata": {
        "pycharm": {
          "name": "#%%\n"
        },
        "id": "XvyzDh0LoEXC"
      }
    },
    {
      "cell_type": "markdown",
      "source": [
        "## 1. Building New dataframe"
      ],
      "metadata": {
        "collapsed": false,
        "pycharm": {
          "name": "#%% md\n"
        },
        "id": "tBAvTh1zoEXD"
      }
    },
    {
      "cell_type": "code",
      "execution_count": null,
      "outputs": [
        {
          "data": {
            "text/plain": "Index(['name', 'link', 'price', 'mileage', 'BHP', 'transmission', 'fuel',\n       'owners', 'body', 'ULEZ', 'engine', 'year', 'filename', 'car model'],\n      dtype='object')"
          },
          "execution_count": 7,
          "metadata": {},
          "output_type": "execute_result"
        }
      ],
      "source": [
        "cars.columns"
      ],
      "metadata": {
        "pycharm": {
          "name": "#%%\n"
        },
        "id": "iB4o8QcqoEXE",
        "outputId": "7cafeefb-cf6c-463d-e2ef-292ef3b28f74"
      }
    },
    {
      "cell_type": "code",
      "execution_count": null,
      "outputs": [],
      "source": [
        "cars_new = cars[['car model','link','price','mileage', 'BHP', 'transmission', 'fuel',\n",
        "                 'owners', 'body', 'ULEZ', 'engine', 'year']].copy()"
      ],
      "metadata": {
        "pycharm": {
          "name": "#%%\n"
        },
        "id": "2YlDcAleoEXG"
      }
    },
    {
      "cell_type": "code",
      "execution_count": null,
      "outputs": [],
      "source": [
        "# as the 'name' is different, we dropped it to clean the new dataframe (drop the duplication)\n",
        "cars_new.drop_duplicates(keep = 'last', inplace = True)"
      ],
      "metadata": {
        "pycharm": {
          "name": "#%%\n"
        },
        "id": "IELfXgeVoEXH"
      }
    },
    {
      "cell_type": "markdown",
      "source": [
        "## 2.EDA\n"
      ],
      "metadata": {
        "collapsed": false,
        "pycharm": {
          "name": "#%% md\n"
        },
        "id": "D5M5UMnAoEXJ"
      }
    },
    {
      "cell_type": "markdown",
      "source": [
        "#### Cleaning special characters"
      ],
      "metadata": {
        "collapsed": false,
        "pycharm": {
          "name": "#%% md\n"
        },
        "id": "qMO5L0QKoEXK"
      }
    },
    {
      "cell_type": "code",
      "execution_count": null,
      "outputs": [],
      "source": [
        "#clean special characters\n",
        "cars_new['price'] = cars_new['price'].str.replace('£','').str.replace(',','')"
      ],
      "metadata": {
        "pycharm": {
          "name": "#%%\n"
        },
        "id": "cHeewzIwoEXK"
      }
    },
    {
      "cell_type": "code",
      "execution_count": null,
      "outputs": [
        {
          "name": "stderr",
          "output_type": "stream",
          "text": [
            "<ipython-input-11-6549f55273a9>:1: FutureWarning: The default value of regex will change from True to False in a future version.\n",
            "  cars_new['year'] = cars_new['year'].str.replace(' (.*)','')\n"
          ]
        }
      ],
      "source": [
        "cars_new['year'] = cars_new['year'].str.replace(' (.*)','')"
      ],
      "metadata": {
        "pycharm": {
          "name": "#%%\n"
        },
        "id": "xxMxqV-roEXL",
        "outputId": "12c85abd-e771-4192-9485-30e8d44c5b07"
      }
    },
    {
      "cell_type": "code",
      "execution_count": null,
      "outputs": [],
      "source": [
        "cars_new['engine'] = cars_new['engine'].str.replace('L','')"
      ],
      "metadata": {
        "pycharm": {
          "name": "#%%\n"
        },
        "id": "On0iJB2boEXL"
      }
    },
    {
      "cell_type": "code",
      "execution_count": null,
      "outputs": [
        {
          "data": {
            "text/plain": "           car model                                               link  \\\n0  Volkswagen_Amarok  https://www.autotrader.co.uk/car-details/20220...   \n1  Volkswagen_Amarok  https://www.autotrader.co.uk/car-details/20220...   \n2  Volkswagen_Amarok  https://www.autotrader.co.uk/car-details/20220...   \n3  Volkswagen_Amarok  https://www.autotrader.co.uk/car-details/20220...   \n4  Volkswagen_Amarok  https://www.autotrader.co.uk/car-details/20220...   \n\n   price   mileage    BHP transmission    fuel  owners    body ULEZ engine  \\\n0   9960  113000.0  161.0       Manual  Diesel     3.0  Pickup  NaN    2.0   \n1  13995   50767.0  161.0       Manual  Diesel     NaN  Pickup  NaN    2.0   \n2  11500  112000.0  161.0       Manual  Diesel     3.0  Pickup  NaN    2.0   \n3  12950  128848.0  161.0       Manual  Diesel     4.0  Pickup  NaN    2.0   \n4  12495   92000.0  161.0       Manual  Diesel     NaN  Pickup  NaN    2.0   \n\n   year  \n0  2011  \n1  2011  \n2  2011  \n3  2011  \n4  2011  ",
            "text/html": "<div>\n<style scoped>\n    .dataframe tbody tr th:only-of-type {\n        vertical-align: middle;\n    }\n\n    .dataframe tbody tr th {\n        vertical-align: top;\n    }\n\n    .dataframe thead th {\n        text-align: right;\n    }\n</style>\n<table border=\"1\" class=\"dataframe\">\n  <thead>\n    <tr style=\"text-align: right;\">\n      <th></th>\n      <th>car model</th>\n      <th>link</th>\n      <th>price</th>\n      <th>mileage</th>\n      <th>BHP</th>\n      <th>transmission</th>\n      <th>fuel</th>\n      <th>owners</th>\n      <th>body</th>\n      <th>ULEZ</th>\n      <th>engine</th>\n      <th>year</th>\n    </tr>\n  </thead>\n  <tbody>\n    <tr>\n      <th>0</th>\n      <td>Volkswagen_Amarok</td>\n      <td>https://www.autotrader.co.uk/car-details/20220...</td>\n      <td>9960</td>\n      <td>113000.0</td>\n      <td>161.0</td>\n      <td>Manual</td>\n      <td>Diesel</td>\n      <td>3.0</td>\n      <td>Pickup</td>\n      <td>NaN</td>\n      <td>2.0</td>\n      <td>2011</td>\n    </tr>\n    <tr>\n      <th>1</th>\n      <td>Volkswagen_Amarok</td>\n      <td>https://www.autotrader.co.uk/car-details/20220...</td>\n      <td>13995</td>\n      <td>50767.0</td>\n      <td>161.0</td>\n      <td>Manual</td>\n      <td>Diesel</td>\n      <td>NaN</td>\n      <td>Pickup</td>\n      <td>NaN</td>\n      <td>2.0</td>\n      <td>2011</td>\n    </tr>\n    <tr>\n      <th>2</th>\n      <td>Volkswagen_Amarok</td>\n      <td>https://www.autotrader.co.uk/car-details/20220...</td>\n      <td>11500</td>\n      <td>112000.0</td>\n      <td>161.0</td>\n      <td>Manual</td>\n      <td>Diesel</td>\n      <td>3.0</td>\n      <td>Pickup</td>\n      <td>NaN</td>\n      <td>2.0</td>\n      <td>2011</td>\n    </tr>\n    <tr>\n      <th>3</th>\n      <td>Volkswagen_Amarok</td>\n      <td>https://www.autotrader.co.uk/car-details/20220...</td>\n      <td>12950</td>\n      <td>128848.0</td>\n      <td>161.0</td>\n      <td>Manual</td>\n      <td>Diesel</td>\n      <td>4.0</td>\n      <td>Pickup</td>\n      <td>NaN</td>\n      <td>2.0</td>\n      <td>2011</td>\n    </tr>\n    <tr>\n      <th>4</th>\n      <td>Volkswagen_Amarok</td>\n      <td>https://www.autotrader.co.uk/car-details/20220...</td>\n      <td>12495</td>\n      <td>92000.0</td>\n      <td>161.0</td>\n      <td>Manual</td>\n      <td>Diesel</td>\n      <td>NaN</td>\n      <td>Pickup</td>\n      <td>NaN</td>\n      <td>2.0</td>\n      <td>2011</td>\n    </tr>\n  </tbody>\n</table>\n</div>"
          },
          "execution_count": 13,
          "metadata": {},
          "output_type": "execute_result"
        }
      ],
      "source": [
        "cars_new.head()"
      ],
      "metadata": {
        "pycharm": {
          "name": "#%%\n"
        },
        "id": "fbpuu43ooEXM",
        "outputId": "c266dff4-c61e-4830-b4ea-af4997424eba"
      }
    },
    {
      "cell_type": "markdown",
      "source": [
        "#### Drop null which the percentage is below 2.6%"
      ],
      "metadata": {
        "collapsed": false,
        "pycharm": {
          "name": "#%% md\n"
        },
        "id": "wkoFdxW0oEXM"
      }
    },
    {
      "cell_type": "code",
      "execution_count": null,
      "outputs": [
        {
          "data": {
            "text/plain": "               null  percent\nowners        19040   68.470\nBHP           14870   53.474\nULEZ           4408   15.852\nbody            701    2.521\nyear            616    2.215\nengine          118    0.424\ntransmission     14    0.050\nfuel              6    0.022\nmileage           5    0.018\ncar model         0    0.000\nlink              0    0.000\nprice             0    0.000",
            "text/html": "<div>\n<style scoped>\n    .dataframe tbody tr th:only-of-type {\n        vertical-align: middle;\n    }\n\n    .dataframe tbody tr th {\n        vertical-align: top;\n    }\n\n    .dataframe thead th {\n        text-align: right;\n    }\n</style>\n<table border=\"1\" class=\"dataframe\">\n  <thead>\n    <tr style=\"text-align: right;\">\n      <th></th>\n      <th>null</th>\n      <th>percent</th>\n    </tr>\n  </thead>\n  <tbody>\n    <tr>\n      <th>owners</th>\n      <td>19040</td>\n      <td>68.470</td>\n    </tr>\n    <tr>\n      <th>BHP</th>\n      <td>14870</td>\n      <td>53.474</td>\n    </tr>\n    <tr>\n      <th>ULEZ</th>\n      <td>4408</td>\n      <td>15.852</td>\n    </tr>\n    <tr>\n      <th>body</th>\n      <td>701</td>\n      <td>2.521</td>\n    </tr>\n    <tr>\n      <th>year</th>\n      <td>616</td>\n      <td>2.215</td>\n    </tr>\n    <tr>\n      <th>engine</th>\n      <td>118</td>\n      <td>0.424</td>\n    </tr>\n    <tr>\n      <th>transmission</th>\n      <td>14</td>\n      <td>0.050</td>\n    </tr>\n    <tr>\n      <th>fuel</th>\n      <td>6</td>\n      <td>0.022</td>\n    </tr>\n    <tr>\n      <th>mileage</th>\n      <td>5</td>\n      <td>0.018</td>\n    </tr>\n    <tr>\n      <th>car model</th>\n      <td>0</td>\n      <td>0.000</td>\n    </tr>\n    <tr>\n      <th>link</th>\n      <td>0</td>\n      <td>0.000</td>\n    </tr>\n    <tr>\n      <th>price</th>\n      <td>0</td>\n      <td>0.000</td>\n    </tr>\n  </tbody>\n</table>\n</div>"
          },
          "execution_count": 14,
          "metadata": {},
          "output_type": "execute_result"
        }
      ],
      "source": [
        "# building a function which can see the number of null value in each columns and it's percentage.\n",
        "def null_vals(dataframe):\n",
        "\n",
        "    null_vals = dataframe.isnull().sum()\n",
        "    total_cnt = len(dataframe)\n",
        "    null_vals = pd.DataFrame(null_vals,columns=['null'])\n",
        "    null_vals['percent'] = round((null_vals['null']/total_cnt)*100,3)\n",
        "    return null_vals.sort_values('percent', ascending=False)\n",
        "\n",
        "null_vals(cars_new)"
      ],
      "metadata": {
        "pycharm": {
          "name": "#%%\n"
        },
        "id": "RQ5ClyYFoEXM",
        "outputId": "66310f3a-7c16-4509-cac3-74f4b17d656e"
      }
    },
    {
      "cell_type": "code",
      "execution_count": null,
      "outputs": [],
      "source": [
        "#drop null in the columns which the percentage is below 2.6%\n",
        "cars_new.dropna(subset = ['body','year','engine','transmission','fuel','mileage'], inplace = True)"
      ],
      "metadata": {
        "pycharm": {
          "name": "#%%\n"
        },
        "id": "K8XGK0nQoEXN"
      }
    },
    {
      "cell_type": "code",
      "execution_count": null,
      "outputs": [
        {
          "data": {
            "text/plain": "               null  percent\nowners        18041   68.345\nBHP           13912   52.703\nULEZ           3956   14.987\ncar model         0    0.000\nlink              0    0.000\nprice             0    0.000\nmileage           0    0.000\ntransmission      0    0.000\nfuel              0    0.000\nbody              0    0.000\nengine            0    0.000\nyear              0    0.000",
            "text/html": "<div>\n<style scoped>\n    .dataframe tbody tr th:only-of-type {\n        vertical-align: middle;\n    }\n\n    .dataframe tbody tr th {\n        vertical-align: top;\n    }\n\n    .dataframe thead th {\n        text-align: right;\n    }\n</style>\n<table border=\"1\" class=\"dataframe\">\n  <thead>\n    <tr style=\"text-align: right;\">\n      <th></th>\n      <th>null</th>\n      <th>percent</th>\n    </tr>\n  </thead>\n  <tbody>\n    <tr>\n      <th>owners</th>\n      <td>18041</td>\n      <td>68.345</td>\n    </tr>\n    <tr>\n      <th>BHP</th>\n      <td>13912</td>\n      <td>52.703</td>\n    </tr>\n    <tr>\n      <th>ULEZ</th>\n      <td>3956</td>\n      <td>14.987</td>\n    </tr>\n    <tr>\n      <th>car model</th>\n      <td>0</td>\n      <td>0.000</td>\n    </tr>\n    <tr>\n      <th>link</th>\n      <td>0</td>\n      <td>0.000</td>\n    </tr>\n    <tr>\n      <th>price</th>\n      <td>0</td>\n      <td>0.000</td>\n    </tr>\n    <tr>\n      <th>mileage</th>\n      <td>0</td>\n      <td>0.000</td>\n    </tr>\n    <tr>\n      <th>transmission</th>\n      <td>0</td>\n      <td>0.000</td>\n    </tr>\n    <tr>\n      <th>fuel</th>\n      <td>0</td>\n      <td>0.000</td>\n    </tr>\n    <tr>\n      <th>body</th>\n      <td>0</td>\n      <td>0.000</td>\n    </tr>\n    <tr>\n      <th>engine</th>\n      <td>0</td>\n      <td>0.000</td>\n    </tr>\n    <tr>\n      <th>year</th>\n      <td>0</td>\n      <td>0.000</td>\n    </tr>\n  </tbody>\n</table>\n</div>"
          },
          "execution_count": 16,
          "metadata": {},
          "output_type": "execute_result"
        }
      ],
      "source": [
        "null_vals(cars_new)"
      ],
      "metadata": {
        "pycharm": {
          "name": "#%%\n"
        },
        "id": "ql6n_aSXoEXN",
        "outputId": "a4c2da1b-fa43-42d3-9584-0e8b0bded2ca"
      }
    },
    {
      "cell_type": "markdown",
      "source": [
        "#### Drop extreme data"
      ],
      "metadata": {
        "collapsed": false,
        "pycharm": {
          "name": "#%% md\n"
        },
        "id": "XL52K3QroEXO"
      }
    },
    {
      "cell_type": "code",
      "execution_count": null,
      "outputs": [],
      "source": [
        "# found probably wrong data and drop it\n",
        "cars_new['BHP'].max()\n",
        "#drop the extreme value\n",
        "cars_new = cars_new.drop(cars_new.index[cars_new['BHP'] == cars_new['BHP'].max()])"
      ],
      "metadata": {
        "pycharm": {
          "name": "#%%\n"
        },
        "id": "ejmOQtzKoEXO"
      }
    },
    {
      "cell_type": "code",
      "execution_count": null,
      "outputs": [
        {
          "data": {
            "text/plain": "               null  percent\nowners        18041   68.347\nBHP           13912   52.705\nULEZ           3956   14.987\ncar model         0    0.000\nlink              0    0.000\nprice             0    0.000\nmileage           0    0.000\ntransmission      0    0.000\nfuel              0    0.000\nbody              0    0.000\nengine            0    0.000\nyear              0    0.000",
            "text/html": "<div>\n<style scoped>\n    .dataframe tbody tr th:only-of-type {\n        vertical-align: middle;\n    }\n\n    .dataframe tbody tr th {\n        vertical-align: top;\n    }\n\n    .dataframe thead th {\n        text-align: right;\n    }\n</style>\n<table border=\"1\" class=\"dataframe\">\n  <thead>\n    <tr style=\"text-align: right;\">\n      <th></th>\n      <th>null</th>\n      <th>percent</th>\n    </tr>\n  </thead>\n  <tbody>\n    <tr>\n      <th>owners</th>\n      <td>18041</td>\n      <td>68.347</td>\n    </tr>\n    <tr>\n      <th>BHP</th>\n      <td>13912</td>\n      <td>52.705</td>\n    </tr>\n    <tr>\n      <th>ULEZ</th>\n      <td>3956</td>\n      <td>14.987</td>\n    </tr>\n    <tr>\n      <th>car model</th>\n      <td>0</td>\n      <td>0.000</td>\n    </tr>\n    <tr>\n      <th>link</th>\n      <td>0</td>\n      <td>0.000</td>\n    </tr>\n    <tr>\n      <th>price</th>\n      <td>0</td>\n      <td>0.000</td>\n    </tr>\n    <tr>\n      <th>mileage</th>\n      <td>0</td>\n      <td>0.000</td>\n    </tr>\n    <tr>\n      <th>transmission</th>\n      <td>0</td>\n      <td>0.000</td>\n    </tr>\n    <tr>\n      <th>fuel</th>\n      <td>0</td>\n      <td>0.000</td>\n    </tr>\n    <tr>\n      <th>body</th>\n      <td>0</td>\n      <td>0.000</td>\n    </tr>\n    <tr>\n      <th>engine</th>\n      <td>0</td>\n      <td>0.000</td>\n    </tr>\n    <tr>\n      <th>year</th>\n      <td>0</td>\n      <td>0.000</td>\n    </tr>\n  </tbody>\n</table>\n</div>"
          },
          "execution_count": 18,
          "metadata": {},
          "output_type": "execute_result"
        }
      ],
      "source": [
        "# other null value will be filled in in the feature engineering process.\n",
        "null_vals(cars_new)"
      ],
      "metadata": {
        "pycharm": {
          "name": "#%%\n"
        },
        "id": "z8xJmANroEXO",
        "outputId": "e1dd78e3-5a99-4a31-d362-169eb2bded38"
      }
    },
    {
      "cell_type": "markdown",
      "source": [
        "#### Exploration"
      ],
      "metadata": {
        "collapsed": false,
        "pycharm": {
          "name": "#%% md\n"
        },
        "id": "B4KQMqP3oEXP"
      }
    },
    {
      "cell_type": "code",
      "execution_count": null,
      "outputs": [
        {
          "name": "stdout",
          "output_type": "stream",
          "text": [
            "<class 'pandas.core.frame.DataFrame'>\n",
            "Int64Index: 26396 entries, 0 to 27833\n",
            "Data columns (total 12 columns):\n",
            " #   Column        Non-Null Count  Dtype  \n",
            "---  ------        --------------  -----  \n",
            " 0   car model     26396 non-null  object \n",
            " 1   link          26396 non-null  object \n",
            " 2   price         26396 non-null  object \n",
            " 3   mileage       26396 non-null  float64\n",
            " 4   BHP           12484 non-null  float64\n",
            " 5   transmission  26396 non-null  object \n",
            " 6   fuel          26396 non-null  object \n",
            " 7   owners        8355 non-null   float64\n",
            " 8   body          26396 non-null  object \n",
            " 9   ULEZ          22440 non-null  object \n",
            " 10  engine        26396 non-null  object \n",
            " 11  year          26396 non-null  object \n",
            "dtypes: float64(3), object(9)\n",
            "memory usage: 2.6+ MB\n"
          ]
        }
      ],
      "source": [
        "# check the number of null value and data type\n",
        "cars_new.info()"
      ],
      "metadata": {
        "pycharm": {
          "name": "#%%\n"
        },
        "id": "MU7EBfaboEXP",
        "outputId": "770b8964-177f-4707-dcb7-6b5e2f34edf5"
      }
    },
    {
      "cell_type": "code",
      "execution_count": null,
      "outputs": [
        {
          "data": {
            "text/plain": "Manual       16667\nAutomatic     9729\nName: transmission, dtype: int64"
          },
          "execution_count": 20,
          "metadata": {},
          "output_type": "execute_result"
        }
      ],
      "source": [
        "# transmission has two categories, so it can be converted to category\n",
        "cars_new['transmission'].value_counts()"
      ],
      "metadata": {
        "pycharm": {
          "name": "#%%\n"
        },
        "id": "akgsNEH4oEXQ",
        "outputId": "45f136f0-b2ab-4fb0-9626-90f3dcc66e57"
      }
    },
    {
      "cell_type": "code",
      "execution_count": null,
      "outputs": [
        {
          "data": {
            "text/plain": "Hatchback      16041\nSUV             7108\nEstate          1336\nSaloon           766\nMPV              510\nPickup           441\nConvertible      194\nName: body, dtype: int64"
          },
          "execution_count": 21,
          "metadata": {},
          "output_type": "execute_result"
        }
      ],
      "source": [
        "#body can also convert to category to encode\n",
        "cars_new['body'].value_counts()"
      ],
      "metadata": {
        "pycharm": {
          "name": "#%%\n"
        },
        "id": "GU4SOfx9oEXQ",
        "outputId": "a0f4698f-96a8-43f3-8598-f51edfab1a91"
      }
    },
    {
      "cell_type": "code",
      "execution_count": null,
      "outputs": [
        {
          "data": {
            "text/plain": "ULEZ    22440\nName: ULEZ, dtype: int64"
          },
          "execution_count": 22,
          "metadata": {},
          "output_type": "execute_result"
        }
      ],
      "source": [
        "#ULEZ can also convert to category to encode (fill null value later)\n",
        "cars_new['ULEZ'].value_counts()"
      ],
      "metadata": {
        "pycharm": {
          "name": "#%%\n"
        },
        "id": "vJRhl1NAoEXQ",
        "outputId": "6c461dd6-7ef7-48f4-81bb-e55529669a63"
      }
    },
    {
      "cell_type": "code",
      "execution_count": null,
      "outputs": [
        {
          "data": {
            "text/plain": "2.0     4986\n3.0     1959\n4.0      827\n5.0      405\n6.0       90\n7.0       45\n8.0       24\n9.0        9\n10.0       5\n11.0       2\n14.0       1\n15.0       1\n13.0       1\nName: owners, dtype: int64"
          },
          "execution_count": 23,
          "metadata": {},
          "output_type": "execute_result"
        }
      ],
      "source": [
        "# although owners is numeric, we considered to convert it to category\n",
        "cars_new['owners'].value_counts()"
      ],
      "metadata": {
        "pycharm": {
          "name": "#%%\n"
        },
        "id": "A_ZsSYtgoEXR",
        "outputId": "0993455d-97f1-472b-87f9-dbea4b038d5b"
      }
    },
    {
      "cell_type": "code",
      "execution_count": null,
      "outputs": [
        {
          "data": {
            "text/plain": "2019    4224\n2018    3977\n2017    2733\n2020    2235\n2016    2185\n2021    2181\n2015    1864\n2014    1419\n2013    1235\n2012    1019\n2011     950\n2010     634\n2009     596\n2008     427\n2007     332\n2006     231\n2005     154\nName: year, dtype: int64"
          },
          "execution_count": 24,
          "metadata": {},
          "output_type": "execute_result"
        }
      ],
      "source": [
        "# we dropped the reg value as we decided to categorise it as different years\n",
        "cars_new['year'].value_counts()"
      ],
      "metadata": {
        "pycharm": {
          "name": "#%%\n"
        },
        "id": "g2ho3RtQoEXR",
        "outputId": "85c572e1-8915-4ca7-cfa4-cad3df1c3860"
      }
    },
    {
      "cell_type": "code",
      "execution_count": null,
      "outputs": [
        {
          "data": {
            "text/plain": "2.0    9360\n1.0    5681\n1.5    3104\n1.4    2588\n1.6    2519\n1.2    1610\n3.0    1045\n1.8     187\n1.9     145\n3.2     108\n2.5      31\n3.6      11\n5.0       3\n4.2       3\n6.0       1\nName: engine, dtype: int64"
          },
          "execution_count": 25,
          "metadata": {},
          "output_type": "execute_result"
        }
      ],
      "source": [
        "# as there are not enough numbers for some types of engine, we decided to bin it to different groups in the feature engineering process.\n",
        "cars_new['engine'].value_counts()"
      ],
      "metadata": {
        "pycharm": {
          "name": "#%%\n"
        },
        "id": "dOGXLnCuoEXS",
        "outputId": "d3f9fdcf-0e6e-4580-9804-a6b11fc0d1e2"
      }
    },
    {
      "cell_type": "code",
      "execution_count": null,
      "outputs": [],
      "source": [
        "# Saves the new and improved cleaned cars data\n",
        "cars_new.to_csv(\"cars_new.csv\", index=False)"
      ],
      "metadata": {
        "pycharm": {
          "name": "#%%\n"
        },
        "id": "Kmp4P2jwoEXS"
      }
    }
  ],
  "metadata": {
    "kernelspec": {
      "display_name": "Python 3",
      "language": "python",
      "name": "python3"
    },
    "language_info": {
      "codemirror_mode": {
        "name": "ipython",
        "version": 2
      },
      "file_extension": ".py",
      "mimetype": "text/x-python",
      "name": "python",
      "nbconvert_exporter": "python",
      "pygments_lexer": "ipython2",
      "version": "2.7.6"
    },
    "colab": {
      "provenance": []
    }
  },
  "nbformat": 4,
  "nbformat_minor": 0
}