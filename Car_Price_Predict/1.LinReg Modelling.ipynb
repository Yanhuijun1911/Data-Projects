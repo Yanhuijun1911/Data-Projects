{
 "cells": [
  {
   "cell_type": "code",
   "execution_count": 1,
   "outputs": [],
   "source": [
    "import pandas as pd\n",
    "import glob\n",
    "import os\n",
    "\n",
    "import numpy as np\n",
    "import matplotlib.pyplot as plt\n",
    "import seaborn as sns\n",
    "\n",
    "from sklearn.linear_model import LinearRegression\n",
    "from sklearn import metrics\n",
    "from sklearn.model_selection import train_test_split # module to split our data into train and test sets\n",
    "from sklearn.preprocessing import StandardScaler\n",
    "\n",
    "import statsmodels.api as sm\n",
    "import statsmodels.tools"
   ],
   "metadata": {
    "collapsed": false,
    "pycharm": {
     "name": "#%%\n"
    }
   }
  },
  {
   "cell_type": "code",
   "execution_count": 2,
   "outputs": [],
   "source": [
    "# Importing the cleaned cars data\n",
    "dataset = \"cars_new.csv\"\n",
    "cars_new = pd.read_csv(dataset)"
   ],
   "metadata": {
    "collapsed": false,
    "pycharm": {
     "name": "#%%\n"
    }
   }
  },
  {
   "cell_type": "markdown",
   "source": [
    "## 3. Feature Engineering\n",
    "#### Filling Null"
   ],
   "metadata": {
    "collapsed": false,
    "pycharm": {
     "name": "#%% md\n"
    }
   }
  },
  {
   "cell_type": "code",
   "execution_count": 3,
   "outputs": [],
   "source": [
    "# # fill in owners with 1 presenting it only has 1 owner\n",
    "cars_new['owners'] = cars_new['owners'].fillna(\n",
    "    value = 1,\n",
    "    method = None,\n",
    "    inplace = False\n",
    ")"
   ],
   "metadata": {
    "collapsed": false,
    "pycharm": {
     "name": "#%%\n"
    }
   }
  },
  {
   "cell_type": "code",
   "execution_count": 4,
   "outputs": [],
   "source": [
    "#fill in ULEZ with No\n",
    "cars_new['ULEZ'] = cars_new['ULEZ'].fillna(value = 'No',\n",
    "                                         method = None,\n",
    "                                         inplace = False)"
   ],
   "metadata": {
    "collapsed": false,
    "pycharm": {
     "name": "#%%\n"
    }
   }
  },
  {
   "cell_type": "code",
   "execution_count": 5,
   "outputs": [],
   "source": [
    "#fill in BHP with mean value of different car model\n",
    "cars_new['BHP'] = cars_new.groupby('car model')['BHP'].transform(lambda x: x.fillna(x.mean()))"
   ],
   "metadata": {
    "collapsed": false,
    "pycharm": {
     "name": "#%%\n"
    }
   }
  },
  {
   "cell_type": "code",
   "execution_count": 6,
   "outputs": [
    {
     "data": {
      "text/plain": "              null  percent\nBHP              3    0.011\ncar model        0    0.000\nlink             0    0.000\nprice            0    0.000\nmileage          0    0.000\ntransmission     0    0.000\nfuel             0    0.000\nowners           0    0.000\nbody             0    0.000\nULEZ             0    0.000\nengine           0    0.000\nyear             0    0.000",
      "text/html": "<div>\n<style scoped>\n    .dataframe tbody tr th:only-of-type {\n        vertical-align: middle;\n    }\n\n    .dataframe tbody tr th {\n        vertical-align: top;\n    }\n\n    .dataframe thead th {\n        text-align: right;\n    }\n</style>\n<table border=\"1\" class=\"dataframe\">\n  <thead>\n    <tr style=\"text-align: right;\">\n      <th></th>\n      <th>null</th>\n      <th>percent</th>\n    </tr>\n  </thead>\n  <tbody>\n    <tr>\n      <th>BHP</th>\n      <td>3</td>\n      <td>0.011</td>\n    </tr>\n    <tr>\n      <th>car model</th>\n      <td>0</td>\n      <td>0.000</td>\n    </tr>\n    <tr>\n      <th>link</th>\n      <td>0</td>\n      <td>0.000</td>\n    </tr>\n    <tr>\n      <th>price</th>\n      <td>0</td>\n      <td>0.000</td>\n    </tr>\n    <tr>\n      <th>mileage</th>\n      <td>0</td>\n      <td>0.000</td>\n    </tr>\n    <tr>\n      <th>transmission</th>\n      <td>0</td>\n      <td>0.000</td>\n    </tr>\n    <tr>\n      <th>fuel</th>\n      <td>0</td>\n      <td>0.000</td>\n    </tr>\n    <tr>\n      <th>owners</th>\n      <td>0</td>\n      <td>0.000</td>\n    </tr>\n    <tr>\n      <th>body</th>\n      <td>0</td>\n      <td>0.000</td>\n    </tr>\n    <tr>\n      <th>ULEZ</th>\n      <td>0</td>\n      <td>0.000</td>\n    </tr>\n    <tr>\n      <th>engine</th>\n      <td>0</td>\n      <td>0.000</td>\n    </tr>\n    <tr>\n      <th>year</th>\n      <td>0</td>\n      <td>0.000</td>\n    </tr>\n  </tbody>\n</table>\n</div>"
     },
     "execution_count": 6,
     "metadata": {},
     "output_type": "execute_result"
    }
   ],
   "source": [
    "# building a function which can see the number of null value in each columns and it's percentage.\n",
    "def null_vals(dataframe):\n",
    "\n",
    "    null_vals = dataframe.isnull().sum()\n",
    "    total_cnt = len(dataframe)\n",
    "    null_vals = pd.DataFrame(null_vals,columns=['null'])\n",
    "    null_vals['percent'] = round((null_vals['null']/total_cnt)*100,3)\n",
    "    return null_vals.sort_values('percent', ascending=False)\n",
    "\n",
    "null_vals(cars_new)"
   ],
   "metadata": {
    "collapsed": false,
    "pycharm": {
     "name": "#%%\n"
    }
   }
  },
  {
   "cell_type": "code",
   "execution_count": 7,
   "outputs": [
    {
     "data": {
      "text/plain": "              null  percent\nBHP              3    0.011\ncar model        0    0.000\nlink             0    0.000\nprice            0    0.000\nmileage          0    0.000\ntransmission     0    0.000\nfuel             0    0.000\nowners           0    0.000\nbody             0    0.000\nULEZ             0    0.000\nengine           0    0.000\nyear             0    0.000",
      "text/html": "<div>\n<style scoped>\n    .dataframe tbody tr th:only-of-type {\n        vertical-align: middle;\n    }\n\n    .dataframe tbody tr th {\n        vertical-align: top;\n    }\n\n    .dataframe thead th {\n        text-align: right;\n    }\n</style>\n<table border=\"1\" class=\"dataframe\">\n  <thead>\n    <tr style=\"text-align: right;\">\n      <th></th>\n      <th>null</th>\n      <th>percent</th>\n    </tr>\n  </thead>\n  <tbody>\n    <tr>\n      <th>BHP</th>\n      <td>3</td>\n      <td>0.011</td>\n    </tr>\n    <tr>\n      <th>car model</th>\n      <td>0</td>\n      <td>0.000</td>\n    </tr>\n    <tr>\n      <th>link</th>\n      <td>0</td>\n      <td>0.000</td>\n    </tr>\n    <tr>\n      <th>price</th>\n      <td>0</td>\n      <td>0.000</td>\n    </tr>\n    <tr>\n      <th>mileage</th>\n      <td>0</td>\n      <td>0.000</td>\n    </tr>\n    <tr>\n      <th>transmission</th>\n      <td>0</td>\n      <td>0.000</td>\n    </tr>\n    <tr>\n      <th>fuel</th>\n      <td>0</td>\n      <td>0.000</td>\n    </tr>\n    <tr>\n      <th>owners</th>\n      <td>0</td>\n      <td>0.000</td>\n    </tr>\n    <tr>\n      <th>body</th>\n      <td>0</td>\n      <td>0.000</td>\n    </tr>\n    <tr>\n      <th>ULEZ</th>\n      <td>0</td>\n      <td>0.000</td>\n    </tr>\n    <tr>\n      <th>engine</th>\n      <td>0</td>\n      <td>0.000</td>\n    </tr>\n    <tr>\n      <th>year</th>\n      <td>0</td>\n      <td>0.000</td>\n    </tr>\n  </tbody>\n</table>\n</div>"
     },
     "execution_count": 7,
     "metadata": {},
     "output_type": "execute_result"
    }
   ],
   "source": [
    "# Check the null value\n",
    "null_vals(cars_new)"
   ],
   "metadata": {
    "collapsed": false,
    "pycharm": {
     "name": "#%%\n"
    }
   }
  },
  {
   "cell_type": "code",
   "execution_count": 8,
   "outputs": [
    {
     "data": {
      "text/plain": "                    car model  \\\n25326  Volkswagen_Transporter   \n25327  Volkswagen_Transporter   \n25328  Volkswagen_Transporter   \n\n                                                    link  price  mileage  BHP  \\\n25326  https://www.autotrader.co.uk/car-details/20220...  29995   8886.0  NaN   \n25327  https://www.autotrader.co.uk/car-details/20210...  37000    550.0  NaN   \n25328  https://www.autotrader.co.uk/car-details/20220...  38850  28000.0  NaN   \n\n      transmission    fuel  owners    body ULEZ  engine  year  \n25326       Manual  Diesel     1.0     MPV   No     2.0  2018  \n25327       Manual  Diesel     2.0     SUV   No     2.0  2020  \n25328       Manual  Diesel     1.0  Estate   No     2.0  2021  ",
      "text/html": "<div>\n<style scoped>\n    .dataframe tbody tr th:only-of-type {\n        vertical-align: middle;\n    }\n\n    .dataframe tbody tr th {\n        vertical-align: top;\n    }\n\n    .dataframe thead th {\n        text-align: right;\n    }\n</style>\n<table border=\"1\" class=\"dataframe\">\n  <thead>\n    <tr style=\"text-align: right;\">\n      <th></th>\n      <th>car model</th>\n      <th>link</th>\n      <th>price</th>\n      <th>mileage</th>\n      <th>BHP</th>\n      <th>transmission</th>\n      <th>fuel</th>\n      <th>owners</th>\n      <th>body</th>\n      <th>ULEZ</th>\n      <th>engine</th>\n      <th>year</th>\n    </tr>\n  </thead>\n  <tbody>\n    <tr>\n      <th>25326</th>\n      <td>Volkswagen_Transporter</td>\n      <td>https://www.autotrader.co.uk/car-details/20220...</td>\n      <td>29995</td>\n      <td>8886.0</td>\n      <td>NaN</td>\n      <td>Manual</td>\n      <td>Diesel</td>\n      <td>1.0</td>\n      <td>MPV</td>\n      <td>No</td>\n      <td>2.0</td>\n      <td>2018</td>\n    </tr>\n    <tr>\n      <th>25327</th>\n      <td>Volkswagen_Transporter</td>\n      <td>https://www.autotrader.co.uk/car-details/20210...</td>\n      <td>37000</td>\n      <td>550.0</td>\n      <td>NaN</td>\n      <td>Manual</td>\n      <td>Diesel</td>\n      <td>2.0</td>\n      <td>SUV</td>\n      <td>No</td>\n      <td>2.0</td>\n      <td>2020</td>\n    </tr>\n    <tr>\n      <th>25328</th>\n      <td>Volkswagen_Transporter</td>\n      <td>https://www.autotrader.co.uk/car-details/20220...</td>\n      <td>38850</td>\n      <td>28000.0</td>\n      <td>NaN</td>\n      <td>Manual</td>\n      <td>Diesel</td>\n      <td>1.0</td>\n      <td>Estate</td>\n      <td>No</td>\n      <td>2.0</td>\n      <td>2021</td>\n    </tr>\n  </tbody>\n</table>\n</div>"
     },
     "execution_count": 8,
     "metadata": {},
     "output_type": "execute_result"
    }
   ],
   "source": [
    "# the 3 null value in BHP is because there is no BHP in car model Transporter\n",
    "cars_new[cars_new['BHP'].isnull()]"
   ],
   "metadata": {
    "collapsed": false,
    "pycharm": {
     "name": "#%%\n"
    }
   }
  },
  {
   "cell_type": "code",
   "execution_count": 9,
   "outputs": [],
   "source": [
    "#drop null\n",
    "cars_new.dropna(inplace = True)"
   ],
   "metadata": {
    "collapsed": false,
    "pycharm": {
     "name": "#%%\n"
    }
   }
  },
  {
   "cell_type": "code",
   "execution_count": 10,
   "outputs": [
    {
     "data": {
      "text/plain": "              null  percent\ncar model        0      0.0\nlink             0      0.0\nprice            0      0.0\nmileage          0      0.0\nBHP              0      0.0\ntransmission     0      0.0\nfuel             0      0.0\nowners           0      0.0\nbody             0      0.0\nULEZ             0      0.0\nengine           0      0.0\nyear             0      0.0",
      "text/html": "<div>\n<style scoped>\n    .dataframe tbody tr th:only-of-type {\n        vertical-align: middle;\n    }\n\n    .dataframe tbody tr th {\n        vertical-align: top;\n    }\n\n    .dataframe thead th {\n        text-align: right;\n    }\n</style>\n<table border=\"1\" class=\"dataframe\">\n  <thead>\n    <tr style=\"text-align: right;\">\n      <th></th>\n      <th>null</th>\n      <th>percent</th>\n    </tr>\n  </thead>\n  <tbody>\n    <tr>\n      <th>car model</th>\n      <td>0</td>\n      <td>0.0</td>\n    </tr>\n    <tr>\n      <th>link</th>\n      <td>0</td>\n      <td>0.0</td>\n    </tr>\n    <tr>\n      <th>price</th>\n      <td>0</td>\n      <td>0.0</td>\n    </tr>\n    <tr>\n      <th>mileage</th>\n      <td>0</td>\n      <td>0.0</td>\n    </tr>\n    <tr>\n      <th>BHP</th>\n      <td>0</td>\n      <td>0.0</td>\n    </tr>\n    <tr>\n      <th>transmission</th>\n      <td>0</td>\n      <td>0.0</td>\n    </tr>\n    <tr>\n      <th>fuel</th>\n      <td>0</td>\n      <td>0.0</td>\n    </tr>\n    <tr>\n      <th>owners</th>\n      <td>0</td>\n      <td>0.0</td>\n    </tr>\n    <tr>\n      <th>body</th>\n      <td>0</td>\n      <td>0.0</td>\n    </tr>\n    <tr>\n      <th>ULEZ</th>\n      <td>0</td>\n      <td>0.0</td>\n    </tr>\n    <tr>\n      <th>engine</th>\n      <td>0</td>\n      <td>0.0</td>\n    </tr>\n    <tr>\n      <th>year</th>\n      <td>0</td>\n      <td>0.0</td>\n    </tr>\n  </tbody>\n</table>\n</div>"
     },
     "execution_count": 10,
     "metadata": {},
     "output_type": "execute_result"
    }
   ],
   "source": [
    "null_vals(cars_new)"
   ],
   "metadata": {
    "collapsed": false,
    "pycharm": {
     "name": "#%%\n"
    }
   }
  },
  {
   "cell_type": "markdown",
   "source": [
    "#### Bining the data"
   ],
   "metadata": {
    "collapsed": false,
    "pycharm": {
     "name": "#%% md\n"
    }
   }
  },
  {
   "cell_type": "code",
   "execution_count": 11,
   "outputs": [],
   "source": [
    "# change data type\n",
    "cars_new = cars_new.astype({'price':'int64',\n",
    "                            'engine':'float64',\n",
    "                            'year':'category',\n",
    "                            'transmission':'category',\n",
    "                            'fuel':'category',\n",
    "                            'body':'category',\n",
    "                            'ULEZ':'category',\n",
    "                            'owners':'category',\n",
    "                            'car model':'category'})"
   ],
   "metadata": {
    "collapsed": false,
    "pycharm": {
     "name": "#%%\n"
    }
   }
  },
  {
   "cell_type": "code",
   "execution_count": 12,
   "outputs": [],
   "source": [
    "# # group engine\n",
    "engine_bucket = [0, 1, 2.0, 6.0 ]\n",
    "engine_name = ['small','medium','large']\n",
    "\n",
    "cars_new['engine_bucket'] = pd.cut(cars_new['engine'],\n",
    "                                   bins = engine_bucket,\n",
    "                                   labels = engine_name,\n",
    "                                   include_lowest= True)\n"
   ],
   "metadata": {
    "collapsed": false,
    "pycharm": {
     "name": "#%%\n"
    }
   }
  },
  {
   "cell_type": "code",
   "execution_count": 13,
   "outputs": [
    {
     "data": {
      "text/plain": "1.0     18039\n2.0      4985\n3.0      1959\n4.0       827\n5.0       405\n6.0        90\n7.0        45\n8.0        24\n9.0         9\n10.0        5\n11.0        2\n13.0        1\n14.0        1\n15.0        1\nName: owners, dtype: int64"
     },
     "execution_count": 13,
     "metadata": {},
     "output_type": "execute_result"
    }
   ],
   "source": [
    "cars_new.owners.value_counts()"
   ],
   "metadata": {
    "collapsed": false,
    "pycharm": {
     "name": "#%%\n"
    }
   }
  },
  {
   "cell_type": "code",
   "execution_count": 14,
   "outputs": [],
   "source": [
    "# # group owner in terms of the numbers\n",
    "owner_bucket = [0,1,3,15]\n",
    "owner_name = ['1','2-3','3-15']\n",
    "\n",
    "cars_new['owners_bucket'] = pd.cut(cars_new['owners'],\n",
    "                                   bins = owner_bucket,\n",
    "                                   labels = owner_name,\n",
    "                                   include_lowest= True)"
   ],
   "metadata": {
    "collapsed": false,
    "pycharm": {
     "name": "#%%\n"
    }
   }
  },
  {
   "cell_type": "code",
   "execution_count": 15,
   "outputs": [],
   "source": [
    "#drop the orinal two columns\n",
    "cars_new.drop(columns = ['link','owners','engine'], inplace = True)"
   ],
   "metadata": {
    "collapsed": false,
    "pycharm": {
     "name": "#%%\n"
    }
   }
  },
  {
   "cell_type": "code",
   "execution_count": 16,
   "outputs": [
    {
     "data": {
      "text/plain": "           car model  price   mileage    BHP transmission    fuel    body  \\\n0  Volkswagen_Amarok   9960  113000.0  161.0       Manual  Diesel  Pickup   \n1  Volkswagen_Amarok  13995   50767.0  161.0       Manual  Diesel  Pickup   \n2  Volkswagen_Amarok  11500  112000.0  161.0       Manual  Diesel  Pickup   \n3  Volkswagen_Amarok  12950  128848.0  161.0       Manual  Diesel  Pickup   \n4  Volkswagen_Amarok  12495   92000.0  161.0       Manual  Diesel  Pickup   \n\n  ULEZ  year engine_bucket owners_bucket  \n0   No  2011        medium           2-3  \n1   No  2011        medium             1  \n2   No  2011        medium           2-3  \n3   No  2011        medium          3-15  \n4   No  2011        medium             1  ",
      "text/html": "<div>\n<style scoped>\n    .dataframe tbody tr th:only-of-type {\n        vertical-align: middle;\n    }\n\n    .dataframe tbody tr th {\n        vertical-align: top;\n    }\n\n    .dataframe thead th {\n        text-align: right;\n    }\n</style>\n<table border=\"1\" class=\"dataframe\">\n  <thead>\n    <tr style=\"text-align: right;\">\n      <th></th>\n      <th>car model</th>\n      <th>price</th>\n      <th>mileage</th>\n      <th>BHP</th>\n      <th>transmission</th>\n      <th>fuel</th>\n      <th>body</th>\n      <th>ULEZ</th>\n      <th>year</th>\n      <th>engine_bucket</th>\n      <th>owners_bucket</th>\n    </tr>\n  </thead>\n  <tbody>\n    <tr>\n      <th>0</th>\n      <td>Volkswagen_Amarok</td>\n      <td>9960</td>\n      <td>113000.0</td>\n      <td>161.0</td>\n      <td>Manual</td>\n      <td>Diesel</td>\n      <td>Pickup</td>\n      <td>No</td>\n      <td>2011</td>\n      <td>medium</td>\n      <td>2-3</td>\n    </tr>\n    <tr>\n      <th>1</th>\n      <td>Volkswagen_Amarok</td>\n      <td>13995</td>\n      <td>50767.0</td>\n      <td>161.0</td>\n      <td>Manual</td>\n      <td>Diesel</td>\n      <td>Pickup</td>\n      <td>No</td>\n      <td>2011</td>\n      <td>medium</td>\n      <td>1</td>\n    </tr>\n    <tr>\n      <th>2</th>\n      <td>Volkswagen_Amarok</td>\n      <td>11500</td>\n      <td>112000.0</td>\n      <td>161.0</td>\n      <td>Manual</td>\n      <td>Diesel</td>\n      <td>Pickup</td>\n      <td>No</td>\n      <td>2011</td>\n      <td>medium</td>\n      <td>2-3</td>\n    </tr>\n    <tr>\n      <th>3</th>\n      <td>Volkswagen_Amarok</td>\n      <td>12950</td>\n      <td>128848.0</td>\n      <td>161.0</td>\n      <td>Manual</td>\n      <td>Diesel</td>\n      <td>Pickup</td>\n      <td>No</td>\n      <td>2011</td>\n      <td>medium</td>\n      <td>3-15</td>\n    </tr>\n    <tr>\n      <th>4</th>\n      <td>Volkswagen_Amarok</td>\n      <td>12495</td>\n      <td>92000.0</td>\n      <td>161.0</td>\n      <td>Manual</td>\n      <td>Diesel</td>\n      <td>Pickup</td>\n      <td>No</td>\n      <td>2011</td>\n      <td>medium</td>\n      <td>1</td>\n    </tr>\n  </tbody>\n</table>\n</div>"
     },
     "execution_count": 16,
     "metadata": {},
     "output_type": "execute_result"
    }
   ],
   "source": [
    "cars_new.head()"
   ],
   "metadata": {
    "collapsed": false,
    "pycharm": {
     "name": "#%%\n"
    }
   }
  },
  {
   "cell_type": "code",
   "execution_count": 17,
   "outputs": [
    {
     "data": {
      "text/plain": "Index(['car model', 'price', 'mileage', 'BHP', 'transmission', 'fuel', 'body',\n       'ULEZ', 'year', 'engine_bucket', 'owners_bucket'],\n      dtype='object')"
     },
     "execution_count": 17,
     "metadata": {},
     "output_type": "execute_result"
    }
   ],
   "source": [
    "cars_new .columns"
   ],
   "metadata": {
    "collapsed": false,
    "pycharm": {
     "name": "#%%\n"
    }
   }
  },
  {
   "cell_type": "markdown",
   "source": [
    "#### Scaling the data"
   ],
   "metadata": {
    "collapsed": false,
    "pycharm": {
     "name": "#%% md\n"
    }
   }
  },
  {
   "cell_type": "code",
   "execution_count": 18,
   "outputs": [],
   "source": [
    "# the columns need to scale: mileage and BHP\n",
    "# set index = cars_new.index to fix the index\n",
    "to_scale = ['mileage','BHP']\n",
    "\n",
    "st_scaler = StandardScaler()\n",
    "cars_scaled = st_scaler.fit_transform(cars_new[to_scale], )\n",
    "cars_scaled = pd.DataFrame(cars_scaled, columns = to_scale, index = cars_new.index)"
   ],
   "metadata": {
    "collapsed": false,
    "pycharm": {
     "name": "#%%\n"
    }
   }
  },
  {
   "cell_type": "markdown",
   "source": [
    "#### Encoding the data"
   ],
   "metadata": {
    "collapsed": false,
    "pycharm": {
     "name": "#%% md\n"
    }
   }
  },
  {
   "cell_type": "code",
   "execution_count": 19,
   "outputs": [],
   "source": [
    "# the columns need to be encoded\n",
    "to_one = ['car model','transmission','fuel','ULEZ','owners_bucket','engine_bucket','year']\n",
    "\n",
    "encoded_cars = pd.get_dummies(cars_new[to_one], columns = to_one, prefix = to_one, drop_first= True)"
   ],
   "metadata": {
    "collapsed": false,
    "pycharm": {
     "name": "#%%\n"
    }
   }
  },
  {
   "cell_type": "markdown",
   "source": [
    "\n",
    "#### Joining dataframe"
   ],
   "metadata": {
    "collapsed": false,
    "pycharm": {
     "name": "#%% md\n"
    }
   }
  },
  {
   "cell_type": "code",
   "execution_count": 20,
   "outputs": [],
   "source": [
    "#join two dataframes together\n",
    "cars = encoded_cars.join(cars_scaled, how = 'inner')"
   ],
   "metadata": {
    "collapsed": false,
    "pycharm": {
     "name": "#%%\n"
    }
   }
  },
  {
   "cell_type": "code",
   "execution_count": 21,
   "outputs": [],
   "source": [
    "# add the 'price' column to the encoded dataframe cars\n",
    "cars['price'] = cars_new['price']"
   ],
   "metadata": {
    "collapsed": false,
    "pycharm": {
     "name": "#%%\n"
    }
   }
  },
  {
   "cell_type": "code",
   "execution_count": 22,
   "outputs": [
    {
     "name": "stdout",
     "output_type": "stream",
     "text": [
      "<class 'pandas.core.frame.DataFrame'>\n",
      "Int64Index: 26393 entries, 0 to 26395\n",
      "Data columns (total 38 columns):\n",
      " #   Column                           Non-Null Count  Dtype  \n",
      "---  ------                           --------------  -----  \n",
      " 0   car model_Volkswagen_Golf        26393 non-null  uint8  \n",
      " 1   car model_Volkswagen_Passat      26393 non-null  uint8  \n",
      " 2   car model_Volkswagen_Polo        26393 non-null  uint8  \n",
      " 3   car model_Volkswagen_Scirocco_1  26393 non-null  uint8  \n",
      " 4   car model_Volkswagen_T-cross     26393 non-null  uint8  \n",
      " 5   car model_Volkswagen_T-roc       26393 non-null  uint8  \n",
      " 6   car model_Volkswagen_Tiguan      26393 non-null  uint8  \n",
      " 7   car model_Volkswagen_Touareg     26393 non-null  uint8  \n",
      " 8   car model_Volkswagen_Touran      26393 non-null  uint8  \n",
      " 9   car model_Volkswagen_Up!         26393 non-null  uint8  \n",
      " 10  transmission_Manual              26393 non-null  uint8  \n",
      " 11  fuel_Petrol                      26393 non-null  uint8  \n",
      " 12  fuel_Petrol Hybrid               26393 non-null  uint8  \n",
      " 13  fuel_Petrol Plug-in Hybrid       26393 non-null  uint8  \n",
      " 14  ULEZ_ULEZ                        26393 non-null  uint8  \n",
      " 15  owners_bucket_2-3                26393 non-null  uint8  \n",
      " 16  owners_bucket_3-15               26393 non-null  uint8  \n",
      " 17  engine_bucket_medium             26393 non-null  uint8  \n",
      " 18  engine_bucket_large              26393 non-null  uint8  \n",
      " 19  year_2006                        26393 non-null  uint8  \n",
      " 20  year_2007                        26393 non-null  uint8  \n",
      " 21  year_2008                        26393 non-null  uint8  \n",
      " 22  year_2009                        26393 non-null  uint8  \n",
      " 23  year_2010                        26393 non-null  uint8  \n",
      " 24  year_2011                        26393 non-null  uint8  \n",
      " 25  year_2012                        26393 non-null  uint8  \n",
      " 26  year_2013                        26393 non-null  uint8  \n",
      " 27  year_2014                        26393 non-null  uint8  \n",
      " 28  year_2015                        26393 non-null  uint8  \n",
      " 29  year_2016                        26393 non-null  uint8  \n",
      " 30  year_2017                        26393 non-null  uint8  \n",
      " 31  year_2018                        26393 non-null  uint8  \n",
      " 32  year_2019                        26393 non-null  uint8  \n",
      " 33  year_2020                        26393 non-null  uint8  \n",
      " 34  year_2021                        26393 non-null  uint8  \n",
      " 35  mileage                          26393 non-null  float64\n",
      " 36  BHP                              26393 non-null  float64\n",
      " 37  price                            26393 non-null  int64  \n",
      "dtypes: float64(2), int64(1), uint8(35)\n",
      "memory usage: 2.7 MB\n"
     ]
    }
   ],
   "source": [
    "cars.info()"
   ],
   "metadata": {
    "collapsed": false,
    "pycharm": {
     "name": "#%%\n"
    }
   }
  },
  {
   "cell_type": "markdown",
   "source": [
    "#### Spliting the data"
   ],
   "metadata": {
    "collapsed": false,
    "pycharm": {
     "name": "#%% md\n"
    }
   }
  },
  {
   "cell_type": "code",
   "execution_count": 23,
   "outputs": [],
   "source": [
    "# feature_cols to the price\n",
    "feature_cols = list(cars.columns)\n",
    "feature_cols.remove('price')"
   ],
   "metadata": {
    "collapsed": false,
    "pycharm": {
     "name": "#%%\n"
    }
   }
  },
  {
   "cell_type": "code",
   "execution_count": 24,
   "outputs": [],
   "source": [
    "X = cars[feature_cols]\n",
    "y = cars['price']\n",
    "X = sm.add_constant(X)\n",
    "\n",
    "X_train, X_test,y_train, y_test = train_test_split(X,y, test_size =0.2, random_state= 40)"
   ],
   "metadata": {
    "collapsed": false,
    "pycharm": {
     "name": "#%%\n"
    }
   }
  },
  {
   "cell_type": "markdown",
   "source": [
    "## 4. Modeling"
   ],
   "metadata": {
    "collapsed": false,
    "pycharm": {
     "name": "#%% md\n"
    }
   }
  },
  {
   "cell_type": "code",
   "execution_count": 25,
   "outputs": [
    {
     "name": "stdout",
     "output_type": "stream",
     "text": [
      "                            OLS Regression Results                            \n",
      "==============================================================================\n",
      "Dep. Variable:                  price   R-squared:                       0.878\n",
      "Model:                            OLS   Adj. R-squared:                  0.878\n",
      "Method:                 Least Squares   F-statistic:                     4114.\n",
      "Date:                Thu, 07 Jul 2022   Prob (F-statistic):               0.00\n",
      "Time:                        10:20:55   Log-Likelihood:            -1.9812e+05\n",
      "No. Observations:               21114   AIC:                         3.963e+05\n",
      "Df Residuals:                   21076   BIC:                         3.966e+05\n",
      "Df Model:                          37                                         \n",
      "Covariance Type:            nonrobust                                         \n",
      "===================================================================================================\n",
      "                                      coef    std err          t      P>|t|      [0.025      0.975]\n",
      "---------------------------------------------------------------------------------------------------\n",
      "const                            1.364e+04    352.952     38.635      0.000    1.29e+04    1.43e+04\n",
      "car model_Volkswagen_Golf       -8984.5345    208.057    -43.183      0.000   -9392.341   -8576.728\n",
      "car model_Volkswagen_Passat     -8576.8267    217.896    -39.362      0.000   -9003.919   -8149.735\n",
      "car model_Volkswagen_Polo       -1.006e+04    227.651    -44.211      0.000   -1.05e+04   -9618.467\n",
      "car model_Volkswagen_Scirocco_1 -9086.2547    235.201    -38.632      0.000   -9547.266   -8625.243\n",
      "car model_Volkswagen_T-cross    -7994.2706    261.270    -30.598      0.000   -8506.380   -7482.161\n",
      "car model_Volkswagen_T-roc      -6978.7119    223.933    -31.164      0.000   -7417.638   -6539.786\n",
      "car model_Volkswagen_Tiguan     -5952.1542    210.163    -28.322      0.000   -6364.090   -5540.219\n",
      "car model_Volkswagen_Touareg    -4975.8119    212.207    -23.448      0.000   -5391.753   -4559.871\n",
      "car model_Volkswagen_Touran     -6396.6248    251.555    -25.428      0.000   -6889.691   -5903.558\n",
      "car model_Volkswagen_Up!        -1.107e+04    257.520    -42.996      0.000   -1.16e+04   -1.06e+04\n",
      "transmission_Manual             -2503.3665     46.863    -53.419      0.000   -2595.222   -2411.511\n",
      "fuel_Petrol                        -8.2810     60.091     -0.138      0.890    -126.064     109.502\n",
      "fuel_Petrol Hybrid              -1588.0222    285.851     -5.555      0.000   -2148.313   -1027.731\n",
      "fuel_Petrol Plug-in Hybrid       3619.3791    238.466     15.178      0.000    3151.968    4086.791\n",
      "ULEZ_ULEZ                        1744.8367     84.037     20.763      0.000    1580.118    1909.555\n",
      "owners_bucket_2-3                 164.9417     48.736      3.384      0.001      69.416     260.467\n",
      "owners_bucket_3-15               -145.3697     97.061     -1.498      0.134    -335.617      44.877\n",
      "engine_bucket_medium             2580.1247     78.821     32.734      0.000    2425.629    2734.621\n",
      "engine_bucket_large              6760.2972    244.206     27.683      0.000    6281.635    7238.959\n",
      "year_2006                         302.5058    337.193      0.897      0.370    -358.419     963.431\n",
      "year_2007                         269.1980    314.872      0.855      0.393    -347.975     886.371\n",
      "year_2008                         357.5747    306.060      1.168      0.243    -242.326     957.476\n",
      "year_2009                        1093.6655    291.659      3.750      0.000     521.991    1665.340\n",
      "year_2010                        2232.3971    290.852      7.675      0.000    1662.304    2802.490\n",
      "year_2011                        2822.9524    282.392      9.997      0.000    2269.443    3376.462\n",
      "year_2012                        3554.6373    281.372     12.633      0.000    3003.126    4106.148\n",
      "year_2013                        4226.4546    278.447     15.179      0.000    3680.677    4772.233\n",
      "year_2014                        4858.2204    277.793     17.489      0.000    4313.725    5402.716\n",
      "year_2015                        5235.0575    276.190     18.955      0.000    4693.705    5776.410\n",
      "year_2016                        6481.9658    277.769     23.336      0.000    5937.518    7026.414\n",
      "year_2017                        8149.1132    276.789     29.442      0.000    7606.585    8691.641\n",
      "year_2018                        9963.3406    277.340     35.925      0.000    9419.733    1.05e+04\n",
      "year_2019                        1.145e+04    278.677     41.077      0.000    1.09e+04     1.2e+04\n",
      "year_2020                        1.357e+04    284.449     47.713      0.000     1.3e+04    1.41e+04\n",
      "year_2021                        1.689e+04    286.606     58.948      0.000    1.63e+04    1.75e+04\n",
      "mileage                         -2140.1650     33.661    -63.581      0.000   -2206.142   -2074.188\n",
      "BHP                              1474.3864     34.406     42.853      0.000    1406.948    1541.825\n",
      "==============================================================================\n",
      "Omnibus:                     7342.354   Durbin-Watson:                   2.014\n",
      "Prob(Omnibus):                  0.000   Jarque-Bera (JB):            58781.522\n",
      "Skew:                           1.452   Prob(JB):                         0.00\n",
      "Kurtosis:                      10.641   Cond. No.                         104.\n",
      "==============================================================================\n",
      "\n",
      "Notes:\n",
      "[1] Standard Errors assume that the covariance matrix of the errors is correctly specified.\n"
     ]
    }
   ],
   "source": [
    "# put the train data in the model\n",
    "lin_reg = sm.OLS(y_train, X_train)\n",
    "results = lin_reg.fit()\n",
    "print(results.summary())"
   ],
   "metadata": {
    "collapsed": false,
    "pycharm": {
     "name": "#%%\n"
    }
   }
  },
  {
   "cell_type": "code",
   "execution_count": 26,
   "outputs": [
    {
     "name": "stderr",
     "output_type": "stream",
     "text": [
      "<ipython-input-26-6c53f45a2a2d>:2: SettingWithCopyWarning: \n",
      "A value is trying to be set on a copy of a slice from a DataFrame.\n",
      "Try using .loc[row_indexer,col_indexer] = value instead\n",
      "\n",
      "See the caveats in the documentation: https://pandas.pydata.org/pandas-docs/stable/user_guide/indexing.html#returning-a-view-versus-a-copy\n",
      "  X_train['y_pred'] = results.predict(X_train)\n"
     ]
    }
   ],
   "source": [
    "# predict the price through train data\n",
    "X_train['y_pred'] = results.predict(X_train)"
   ],
   "metadata": {
    "collapsed": false,
    "pycharm": {
     "name": "#%%\n"
    }
   }
  },
  {
   "cell_type": "code",
   "execution_count": 27,
   "outputs": [
    {
     "data": {
      "text/plain": "11655     5696.918943\n3483      9806.938331\n1447     13397.646342\n20762    11817.668364\n23081    21813.657339\nName: y_pred, dtype: float64"
     },
     "execution_count": 27,
     "metadata": {},
     "output_type": "execute_result"
    }
   ],
   "source": [
    "#show the predicted price through the model\n",
    "X_train['y_pred'].head()"
   ],
   "metadata": {
    "collapsed": false,
    "pycharm": {
     "name": "#%%\n"
    }
   }
  },
  {
   "cell_type": "code",
   "execution_count": 28,
   "outputs": [
    {
     "data": {
      "text/plain": "Index(['const', 'car model_Volkswagen_Golf', 'car model_Volkswagen_Passat',\n       'car model_Volkswagen_Polo', 'car model_Volkswagen_Scirocco_1',\n       'car model_Volkswagen_T-cross', 'car model_Volkswagen_T-roc',\n       'car model_Volkswagen_Tiguan', 'car model_Volkswagen_Touareg',\n       'car model_Volkswagen_Touran', 'car model_Volkswagen_Up!',\n       'transmission_Manual', 'fuel_Petrol', 'fuel_Petrol Hybrid',\n       'fuel_Petrol Plug-in Hybrid', 'ULEZ_ULEZ', 'owners_bucket_2-3',\n       'owners_bucket_3-15', 'engine_bucket_medium', 'engine_bucket_large',\n       'year_2006', 'year_2007', 'year_2008', 'year_2009', 'year_2010',\n       'year_2011', 'year_2012', 'year_2013', 'year_2014', 'year_2015',\n       'year_2016', 'year_2017', 'year_2018', 'year_2019', 'year_2020',\n       'year_2021', 'mileage', 'BHP', 'y_pred'],\n      dtype='object')"
     },
     "execution_count": 28,
     "metadata": {},
     "output_type": "execute_result"
    }
   ],
   "source": [
    "X_train.columns"
   ],
   "metadata": {
    "collapsed": false,
    "pycharm": {
     "name": "#%%\n"
    }
   }
  },
  {
   "cell_type": "code",
   "execution_count": 29,
   "outputs": [
    {
     "ename": "KeyError",
     "evalue": "12003",
     "output_type": "error",
     "traceback": [
      "\u001B[0;31m---------------------------------------------------------------------------\u001B[0m",
      "\u001B[0;31mKeyError\u001B[0m                                  Traceback (most recent call last)",
      "\u001B[0;32m/opt/anaconda3/lib/python3.8/site-packages/pandas/core/indexes/base.py\u001B[0m in \u001B[0;36mget_loc\u001B[0;34m(self, key, method, tolerance)\u001B[0m\n\u001B[1;32m   3079\u001B[0m             \u001B[0;32mtry\u001B[0m\u001B[0;34m:\u001B[0m\u001B[0;34m\u001B[0m\u001B[0;34m\u001B[0m\u001B[0m\n\u001B[0;32m-> 3080\u001B[0;31m                 \u001B[0;32mreturn\u001B[0m \u001B[0mself\u001B[0m\u001B[0;34m.\u001B[0m\u001B[0m_engine\u001B[0m\u001B[0;34m.\u001B[0m\u001B[0mget_loc\u001B[0m\u001B[0;34m(\u001B[0m\u001B[0mcasted_key\u001B[0m\u001B[0;34m)\u001B[0m\u001B[0;34m\u001B[0m\u001B[0;34m\u001B[0m\u001B[0m\n\u001B[0m\u001B[1;32m   3081\u001B[0m             \u001B[0;32mexcept\u001B[0m \u001B[0mKeyError\u001B[0m \u001B[0;32mas\u001B[0m \u001B[0merr\u001B[0m\u001B[0;34m:\u001B[0m\u001B[0;34m\u001B[0m\u001B[0;34m\u001B[0m\u001B[0m\n",
      "\u001B[0;32mpandas/_libs/index.pyx\u001B[0m in \u001B[0;36mpandas._libs.index.IndexEngine.get_loc\u001B[0;34m()\u001B[0m\n",
      "\u001B[0;32mpandas/_libs/index.pyx\u001B[0m in \u001B[0;36mpandas._libs.index.IndexEngine.get_loc\u001B[0;34m()\u001B[0m\n",
      "\u001B[0;32mpandas/_libs/hashtable_class_helper.pxi\u001B[0m in \u001B[0;36mpandas._libs.hashtable.Int64HashTable.get_item\u001B[0;34m()\u001B[0m\n",
      "\u001B[0;32mpandas/_libs/hashtable_class_helper.pxi\u001B[0m in \u001B[0;36mpandas._libs.hashtable.Int64HashTable.get_item\u001B[0;34m()\u001B[0m\n",
      "\u001B[0;31mKeyError\u001B[0m: 12003",
      "\nThe above exception was the direct cause of the following exception:\n",
      "\u001B[0;31mKeyError\u001B[0m                                  Traceback (most recent call last)",
      "\u001B[0;32m<ipython-input-29-65cd73a0db8b>\u001B[0m in \u001B[0;36m<module>\u001B[0;34m\u001B[0m\n\u001B[1;32m      1\u001B[0m \u001B[0;31m# compare the first row of the predicted price and its actual price\u001B[0m\u001B[0;34m\u001B[0m\u001B[0;34m\u001B[0m\u001B[0;34m\u001B[0m\u001B[0m\n\u001B[0;32m----> 2\u001B[0;31m \u001B[0my_train\u001B[0m\u001B[0;34m[\u001B[0m\u001B[0;36m12003\u001B[0m\u001B[0;34m]\u001B[0m\u001B[0;34m\u001B[0m\u001B[0;34m\u001B[0m\u001B[0m\n\u001B[0m",
      "\u001B[0;32m/opt/anaconda3/lib/python3.8/site-packages/pandas/core/series.py\u001B[0m in \u001B[0;36m__getitem__\u001B[0;34m(self, key)\u001B[0m\n\u001B[1;32m    851\u001B[0m \u001B[0;34m\u001B[0m\u001B[0m\n\u001B[1;32m    852\u001B[0m         \u001B[0;32melif\u001B[0m \u001B[0mkey_is_scalar\u001B[0m\u001B[0;34m:\u001B[0m\u001B[0;34m\u001B[0m\u001B[0;34m\u001B[0m\u001B[0m\n\u001B[0;32m--> 853\u001B[0;31m             \u001B[0;32mreturn\u001B[0m \u001B[0mself\u001B[0m\u001B[0;34m.\u001B[0m\u001B[0m_get_value\u001B[0m\u001B[0;34m(\u001B[0m\u001B[0mkey\u001B[0m\u001B[0;34m)\u001B[0m\u001B[0;34m\u001B[0m\u001B[0;34m\u001B[0m\u001B[0m\n\u001B[0m\u001B[1;32m    854\u001B[0m \u001B[0;34m\u001B[0m\u001B[0m\n\u001B[1;32m    855\u001B[0m         \u001B[0;32mif\u001B[0m \u001B[0mis_hashable\u001B[0m\u001B[0;34m(\u001B[0m\u001B[0mkey\u001B[0m\u001B[0;34m)\u001B[0m\u001B[0;34m:\u001B[0m\u001B[0;34m\u001B[0m\u001B[0;34m\u001B[0m\u001B[0m\n",
      "\u001B[0;32m/opt/anaconda3/lib/python3.8/site-packages/pandas/core/series.py\u001B[0m in \u001B[0;36m_get_value\u001B[0;34m(self, label, takeable)\u001B[0m\n\u001B[1;32m    959\u001B[0m \u001B[0;34m\u001B[0m\u001B[0m\n\u001B[1;32m    960\u001B[0m         \u001B[0;31m# Similar to Index.get_value, but we do not fall back to positional\u001B[0m\u001B[0;34m\u001B[0m\u001B[0;34m\u001B[0m\u001B[0;34m\u001B[0m\u001B[0m\n\u001B[0;32m--> 961\u001B[0;31m         \u001B[0mloc\u001B[0m \u001B[0;34m=\u001B[0m \u001B[0mself\u001B[0m\u001B[0;34m.\u001B[0m\u001B[0mindex\u001B[0m\u001B[0;34m.\u001B[0m\u001B[0mget_loc\u001B[0m\u001B[0;34m(\u001B[0m\u001B[0mlabel\u001B[0m\u001B[0;34m)\u001B[0m\u001B[0;34m\u001B[0m\u001B[0;34m\u001B[0m\u001B[0m\n\u001B[0m\u001B[1;32m    962\u001B[0m         \u001B[0;32mreturn\u001B[0m \u001B[0mself\u001B[0m\u001B[0;34m.\u001B[0m\u001B[0mindex\u001B[0m\u001B[0;34m.\u001B[0m\u001B[0m_get_values_for_loc\u001B[0m\u001B[0;34m(\u001B[0m\u001B[0mself\u001B[0m\u001B[0;34m,\u001B[0m \u001B[0mloc\u001B[0m\u001B[0;34m,\u001B[0m \u001B[0mlabel\u001B[0m\u001B[0;34m)\u001B[0m\u001B[0;34m\u001B[0m\u001B[0;34m\u001B[0m\u001B[0m\n\u001B[1;32m    963\u001B[0m \u001B[0;34m\u001B[0m\u001B[0m\n",
      "\u001B[0;32m/opt/anaconda3/lib/python3.8/site-packages/pandas/core/indexes/base.py\u001B[0m in \u001B[0;36mget_loc\u001B[0;34m(self, key, method, tolerance)\u001B[0m\n\u001B[1;32m   3080\u001B[0m                 \u001B[0;32mreturn\u001B[0m \u001B[0mself\u001B[0m\u001B[0;34m.\u001B[0m\u001B[0m_engine\u001B[0m\u001B[0;34m.\u001B[0m\u001B[0mget_loc\u001B[0m\u001B[0;34m(\u001B[0m\u001B[0mcasted_key\u001B[0m\u001B[0;34m)\u001B[0m\u001B[0;34m\u001B[0m\u001B[0;34m\u001B[0m\u001B[0m\n\u001B[1;32m   3081\u001B[0m             \u001B[0;32mexcept\u001B[0m \u001B[0mKeyError\u001B[0m \u001B[0;32mas\u001B[0m \u001B[0merr\u001B[0m\u001B[0;34m:\u001B[0m\u001B[0;34m\u001B[0m\u001B[0;34m\u001B[0m\u001B[0m\n\u001B[0;32m-> 3082\u001B[0;31m                 \u001B[0;32mraise\u001B[0m \u001B[0mKeyError\u001B[0m\u001B[0;34m(\u001B[0m\u001B[0mkey\u001B[0m\u001B[0;34m)\u001B[0m \u001B[0;32mfrom\u001B[0m \u001B[0merr\u001B[0m\u001B[0;34m\u001B[0m\u001B[0;34m\u001B[0m\u001B[0m\n\u001B[0m\u001B[1;32m   3083\u001B[0m \u001B[0;34m\u001B[0m\u001B[0m\n\u001B[1;32m   3084\u001B[0m         \u001B[0;32mif\u001B[0m \u001B[0mtolerance\u001B[0m \u001B[0;32mis\u001B[0m \u001B[0;32mnot\u001B[0m \u001B[0;32mNone\u001B[0m\u001B[0;34m:\u001B[0m\u001B[0;34m\u001B[0m\u001B[0;34m\u001B[0m\u001B[0m\n",
      "\u001B[0;31mKeyError\u001B[0m: 12003"
     ]
    }
   ],
   "source": [
    "# compare the first row of the predicted price and its actual price\n",
    "y_train[12003]"
   ],
   "metadata": {
    "collapsed": false,
    "pycharm": {
     "name": "#%%\n"
    }
   }
  },
  {
   "cell_type": "code",
   "execution_count": null,
   "outputs": [],
   "source": [
    "# use the trained model to predict the price in the test dataset\n",
    "X_test['y_pred'] = results.predict(X_test)"
   ],
   "metadata": {
    "collapsed": false,
    "pycharm": {
     "name": "#%%\n"
    }
   }
  },
  {
   "cell_type": "code",
   "execution_count": null,
   "outputs": [],
   "source": [
    "#rmse of the train data\n",
    "rmse_train = statsmodels.tools.eval_measures.rmse(y_train, X_train['y_pred'])\n",
    "print(rmse_train)"
   ],
   "metadata": {
    "collapsed": false,
    "pycharm": {
     "name": "#%%\n"
    }
   }
  },
  {
   "cell_type": "code",
   "execution_count": null,
   "outputs": [],
   "source": [
    "#rmse of the test data\n",
    "rmse_test = statsmodels.tools.eval_measures.rmse(y_test, X_test['y_pred'])\n",
    "print(rmse_test)"
   ],
   "metadata": {
    "collapsed": false,
    "pycharm": {
     "name": "#%%\n"
    }
   }
  },
  {
   "cell_type": "markdown",
   "source": [
    "#### Correlation"
   ],
   "metadata": {
    "collapsed": false,
    "pycharm": {
     "name": "#%% md\n"
    }
   }
  },
  {
   "cell_type": "code",
   "execution_count": null,
   "outputs": [],
   "source": [
    "# show the correlation\n",
    "cars.corr()"
   ],
   "metadata": {
    "collapsed": false,
    "pycharm": {
     "name": "#%%\n"
    }
   }
  },
  {
   "cell_type": "code",
   "execution_count": null,
   "outputs": [],
   "source": [
    "#plot the correlation\n",
    "plt.figure (figsize = (30,30))\n",
    "sns.heatmap(cars.corr(),\n",
    "            annot = True,\n",
    "            linecolor='black',\n",
    "            center=0,\n",
    "            vmin=-1,\n",
    "            vmax=1,\n",
    "            cmap = sns.diverging_palette(600,600, as_cmap=True),\n",
    "            fmt='.4g')\n",
    "plt.show()"
   ],
   "metadata": {
    "collapsed": false,
    "pycharm": {
     "name": "#%%\n"
    }
   }
  }
 ],
 "metadata": {
  "kernelspec": {
   "display_name": "Python 3",
   "language": "python",
   "name": "python3"
  },
  "language_info": {
   "codemirror_mode": {
    "name": "ipython",
    "version": 2
   },
   "file_extension": ".py",
   "mimetype": "text/x-python",
   "name": "python",
   "nbconvert_exporter": "python",
   "pygments_lexer": "ipython2",
   "version": "2.7.6"
  }
 },
 "nbformat": 4,
 "nbformat_minor": 0
}